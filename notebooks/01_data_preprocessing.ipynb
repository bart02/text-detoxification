{
  "cells": [
    {
      "cell_type": "code",
      "execution_count": 5,
      "metadata": {
        "id": "rUouJzdfLfOl"
      },
      "outputs": [],
      "source": [
        "import pandas as pd\n",
        "df = pd.read_csv(\"../src/data/raw/filtered.tsv\", sep=\"\\t\", index_col='Unnamed: 0')\n",
        "df = df.drop(columns=['similarity', 'lenght_diff'])"
      ]
    },
    {
      "cell_type": "code",
      "execution_count": 3,
      "metadata": {
        "id": "aZYCAl6HW0xJ"
      },
      "outputs": [],
      "source": [
        "cond = df[\"trn_tox\"] > df[\"ref_tox\"]\n",
        "df.loc[cond, [\"reference\", \"translation\"]] = df.loc[cond, [\"translation\", \"reference\"]].values\n",
        "df.loc[cond, [\"ref_tox\", \"trn_tox\"]] = df.loc[cond, [\"trn_tox\", \"ref_tox\"]].values"
      ]
    },
    {
      "cell_type": "code",
      "execution_count": 5,
      "metadata": {
        "id": "4lM_wCrebzBW"
      },
      "outputs": [],
      "source": [
        "df = df[((df[\"ref_tox\"] > 0.8) & (df[\"trn_tox\"] < 0.1))]"
      ]
    },
    {
      "cell_type": "code",
      "execution_count": 6,
      "metadata": {
        "id": "slmjVgN_cYAe"
      },
      "outputs": [],
      "source": [
        "df = df[((df['reference'].str.len() > 30) & (df['translation'].str.len() > 20))]"
      ]
    }
  ],
  "metadata": {
    "colab": {
      "provenance": []
    },
    "kernelspec": {
      "display_name": "Python 3",
      "name": "python3"
    },
    "language_info": {
      "codemirror_mode": {
        "name": "ipython",
        "version": 3
      },
      "file_extension": ".py",
      "mimetype": "text/x-python",
      "name": "python",
      "nbconvert_exporter": "python",
      "pygments_lexer": "ipython3",
      "version": "3.10.13"
    }
  },
  "nbformat": 4,
  "nbformat_minor": 0
}
